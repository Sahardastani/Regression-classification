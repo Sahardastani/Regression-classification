{
 "cells": [
  {
   "cell_type": "code",
   "execution_count": 1,
   "metadata": {},
   "outputs": [],
   "source": [
    "import numpy as np\n",
    "import pandas as pd\n",
    "from math import *\n",
    "import matplotlib.pyplot as plt\n",
    "import seaborn as sns\n",
    "import seaborn as sb\n",
    "import warnings; warnings.simplefilter('ignore')\n",
    "from sklearn import linear_model"
   ]
  },
  {
   "cell_type": "markdown",
   "metadata": {},
   "source": [
    "# 2-A"
   ]
  },
  {
   "cell_type": "code",
   "execution_count": 2,
   "metadata": {},
   "outputs": [],
   "source": [
    "#Generating data\n",
    "x_given_data = np.array([-1, 0, 1, -2])\n",
    "x2_train = x_given_data[:, np.newaxis]\n",
    "\n",
    "y_given_data = np.array([1, 8, 5, -1])\n",
    "y2_train = y_given_data\n",
    "\n",
    "x_2 = np.linspace(start = -2, stop = 1, num = 50) #maximum amount of x is 1 and minimum amount is -2\n",
    "y_2 = (2*x_2) - 1"
   ]
  },
  {
   "cell_type": "code",
   "execution_count": 3,
   "metadata": {},
   "outputs": [],
   "source": [
    "#fitting model\n",
    "model = linear_model.LinearRegression()\n",
    "model.fit(x2_train, y2_train)\n",
    "final = model.coef_ * x2_train + model.intercept_"
   ]
  },
  {
   "cell_type": "code",
   "execution_count": 4,
   "metadata": {},
   "outputs": [
    {
     "data": {
      "image/png": "[encoded data removed]",
      "text/plain": [
       "<Figure size 432x288 with 1 Axes>"
      ]
     },
     "metadata": {
      "needs_background": "light"
     },
     "output_type": "display_data"
    }
   ],
   "source": [
    "#plot \n",
    "plt.scatter(x_given_data, y_given_data, color = 'red')\n",
    "plt.plot(x2_train, final, color = 'green', label = 'model')\n",
    "plt.plot(x_2, y_2, color = 'blue', label = 'y = 2x - 1')\n",
    "plt.legend()\n",
    "plt.show()"
   ]
  },
  {
   "cell_type": "markdown",
   "metadata": {},
   "source": [
    "# 3-A\n",
    "## Generating random data with gaussian noise"
   ]
  },
  {
   "cell_type": "code",
   "execution_count": 5,
   "metadata": {},
   "outputs": [],
   "source": [
    "def corr_vars(mu = 0, sigma = 2, func = lambda x: x ):\n",
    "    # Generate 100 random x in the range of -100 to 100\n",
    "    x = np.random.uniform(-100, 100, 100) \n",
    "     \n",
    "    # Generate random noise with mu=average and sigma=variance\n",
    "    e = np.random.normal(mu, sigma, x.size)\n",
    "     \n",
    "    # Generate y values as y = func(x) + e\n",
    "    y = np.zeros(x.size)\n",
    "     \n",
    "    for index in range(x.size):\n",
    "        y[index] = func(x[index]) + e[index]\n",
    "     \n",
    "    return (x,y)"
   ]
  },
  {
   "cell_type": "code",
   "execution_count": 6,
   "metadata": {},
   "outputs": [],
   "source": [
    "(X, T) = corr_vars(mu = 0, sigma = 2, func = lambda x: ((x**3) - 3*(x**2) - x + 3))  "
   ]
  },
  {
   "cell_type": "code",
   "execution_count": 7,
   "metadata": {},
   "outputs": [
    {
     "data": {
      "text/html": [
       "<div>\n",
       "<style scoped>\n",
       "    .dataframe tbody tr th:only-of-type {\n",
       "        vertical-align: middle;\n",
       "    }\n",
       "\n",
       "    .dataframe tbody tr th {\n",
       "        vertical-align: top;\n",
       "    }\n",
       "\n",
       "    .dataframe thead th {\n",
       "        text-align: right;\n",
       "    }\n",
       "</style>\n",
       "<table border=\"1\" class=\"dataframe\">\n",
       "  <thead>\n",
       "    <tr style=\"text-align: right;\">\n",
       "      <th></th>\n",
       "      <th>Unnamed: 0</th>\n",
       "      <th>X</th>\n",
       "      <th>T</th>\n",
       "    </tr>\n",
       "  </thead>\n",
       "  <tbody>\n",
       "    <tr>\n",
       "      <th>0</th>\n",
       "      <td>0</td>\n",
       "      <td>-48.488416</td>\n",
       "      <td>-121003.694804</td>\n",
       "    </tr>\n",
       "    <tr>\n",
       "      <th>1</th>\n",
       "      <td>1</td>\n",
       "      <td>-9.751437</td>\n",
       "      <td>-1203.796720</td>\n",
       "    </tr>\n",
       "    <tr>\n",
       "      <th>2</th>\n",
       "      <td>2</td>\n",
       "      <td>88.057883</td>\n",
       "      <td>659471.003503</td>\n",
       "    </tr>\n",
       "    <tr>\n",
       "      <th>3</th>\n",
       "      <td>3</td>\n",
       "      <td>2.790635</td>\n",
       "      <td>0.397661</td>\n",
       "    </tr>\n",
       "    <tr>\n",
       "      <th>4</th>\n",
       "      <td>4</td>\n",
       "      <td>77.885364</td>\n",
       "      <td>454190.209843</td>\n",
       "    </tr>\n",
       "    <tr>\n",
       "      <th>...</th>\n",
       "      <td>...</td>\n",
       "      <td>...</td>\n",
       "      <td>...</td>\n",
       "    </tr>\n",
       "    <tr>\n",
       "      <th>95</th>\n",
       "      <td>95</td>\n",
       "      <td>44.747752</td>\n",
       "      <td>83550.884273</td>\n",
       "    </tr>\n",
       "    <tr>\n",
       "      <th>96</th>\n",
       "      <td>96</td>\n",
       "      <td>5.116572</td>\n",
       "      <td>54.514221</td>\n",
       "    </tr>\n",
       "    <tr>\n",
       "      <th>97</th>\n",
       "      <td>97</td>\n",
       "      <td>49.278421</td>\n",
       "      <td>112334.663853</td>\n",
       "    </tr>\n",
       "    <tr>\n",
       "      <th>98</th>\n",
       "      <td>98</td>\n",
       "      <td>-53.345796</td>\n",
       "      <td>-160290.315100</td>\n",
       "    </tr>\n",
       "    <tr>\n",
       "      <th>99</th>\n",
       "      <td>99</td>\n",
       "      <td>11.109571</td>\n",
       "      <td>994.028130</td>\n",
       "    </tr>\n",
       "  </tbody>\n",
       "</table>\n",
       "<p>100 rows × 3 columns</p>\n",
       "</div>"
      ],
      "text/plain": [
       "    Unnamed: 0          X              T\n",
       "0            0 -48.488416 -121003.694804\n",
       "1            1  -9.751437   -1203.796720\n",
       "2            2  88.057883  659471.003503\n",
       "3            3   2.790635       0.397661\n",
       "4            4  77.885364  454190.209843\n",
       "..         ...        ...            ...\n",
       "95          95  44.747752   83550.884273\n",
       "96          96   5.116572      54.514221\n",
       "97          97  49.278421  112334.663853\n",
       "98          98 -53.345796 -160290.315100\n",
       "99          99  11.109571     994.028130\n",
       "\n",
       "[100 rows x 3 columns]"
      ]
     },
     "execution_count": 7,
     "metadata": {},
     "output_type": "execute_result"
    }
   ],
   "source": [
    "arr = {'X' : X, 'T' : T}\n",
    "datas = pd.DataFrame(data = arr)\n",
    "datas\n",
    "datas.to_csv('data.csv')\n",
    "data = pd.read_csv('./data.csv')\n",
    "data"
   ]
  },
  {
   "cell_type": "markdown",
   "metadata": {},
   "source": [
    "### Feature Scaling"
   ]
  },
  {
   "cell_type": "code",
   "execution_count": 8,
   "metadata": {},
   "outputs": [
    {
     "data": {
      "text/html": [
       "<div>\n",
       "<style scoped>\n",
       "    .dataframe tbody tr th:only-of-type {\n",
       "        vertical-align: middle;\n",
       "    }\n",
       "\n",
       "    .dataframe tbody tr th {\n",
       "        vertical-align: top;\n",
       "    }\n",
       "\n",
       "    .dataframe thead th {\n",
       "        text-align: right;\n",
       "    }\n",
       "</style>\n",
       "<table border=\"1\" class=\"dataframe\">\n",
       "  <thead>\n",
       "    <tr style=\"text-align: right;\">\n",
       "      <th></th>\n",
       "      <th>Unnamed: 0</th>\n",
       "      <th>X</th>\n",
       "      <th>T</th>\n",
       "    </tr>\n",
       "  </thead>\n",
       "  <tbody>\n",
       "    <tr>\n",
       "      <th>0</th>\n",
       "      <td>0.000000</td>\n",
       "      <td>0.260026</td>\n",
       "      <td>0.467843</td>\n",
       "    </tr>\n",
       "    <tr>\n",
       "      <th>1</th>\n",
       "      <td>0.010101</td>\n",
       "      <td>0.455760</td>\n",
       "      <td>0.529614</td>\n",
       "    </tr>\n",
       "    <tr>\n",
       "      <th>2</th>\n",
       "      <td>0.020202</td>\n",
       "      <td>0.949982</td>\n",
       "      <td>0.870272</td>\n",
       "    </tr>\n",
       "    <tr>\n",
       "      <th>3</th>\n",
       "      <td>0.030303</td>\n",
       "      <td>0.519134</td>\n",
       "      <td>0.530235</td>\n",
       "    </tr>\n",
       "    <tr>\n",
       "      <th>4</th>\n",
       "      <td>0.040404</td>\n",
       "      <td>0.898581</td>\n",
       "      <td>0.764425</td>\n",
       "    </tr>\n",
       "    <tr>\n",
       "      <th>...</th>\n",
       "      <td>...</td>\n",
       "      <td>...</td>\n",
       "      <td>...</td>\n",
       "    </tr>\n",
       "    <tr>\n",
       "      <th>95</th>\n",
       "      <td>0.959596</td>\n",
       "      <td>0.731140</td>\n",
       "      <td>0.573315</td>\n",
       "    </tr>\n",
       "    <tr>\n",
       "      <th>96</th>\n",
       "      <td>0.969697</td>\n",
       "      <td>0.530887</td>\n",
       "      <td>0.530263</td>\n",
       "    </tr>\n",
       "    <tr>\n",
       "      <th>97</th>\n",
       "      <td>0.979798</td>\n",
       "      <td>0.754033</td>\n",
       "      <td>0.588157</td>\n",
       "    </tr>\n",
       "    <tr>\n",
       "      <th>98</th>\n",
       "      <td>0.989899</td>\n",
       "      <td>0.235482</td>\n",
       "      <td>0.447586</td>\n",
       "    </tr>\n",
       "    <tr>\n",
       "      <th>99</th>\n",
       "      <td>1.000000</td>\n",
       "      <td>0.561169</td>\n",
       "      <td>0.530747</td>\n",
       "    </tr>\n",
       "  </tbody>\n",
       "</table>\n",
       "<p>100 rows × 3 columns</p>\n",
       "</div>"
      ],
      "text/plain": [
       "    Unnamed: 0         X         T\n",
       "0     0.000000  0.260026  0.467843\n",
       "1     0.010101  0.455760  0.529614\n",
       "2     0.020202  0.949982  0.870272\n",
       "3     0.030303  0.519134  0.530235\n",
       "4     0.040404  0.898581  0.764425\n",
       "..         ...       ...       ...\n",
       "95    0.959596  0.731140  0.573315\n",
       "96    0.969697  0.530887  0.530263\n",
       "97    0.979798  0.754033  0.588157\n",
       "98    0.989899  0.235482  0.447586\n",
       "99    1.000000  0.561169  0.530747\n",
       "\n",
       "[100 rows x 3 columns]"
      ]
     },
     "execution_count": 8,
     "metadata": {},
     "output_type": "execute_result"
    }
   ],
   "source": [
    "from sklearn.preprocessing import StandardScaler,MinMaxScaler\n",
    "\n",
    "scalar=MinMaxScaler()\n",
    "scaled_features=pd.DataFrame(scalar.fit_transform(data), columns=data.columns)\n",
    "scaled_features"
   ]
  },
  {
   "cell_type": "markdown",
   "metadata": {},
   "source": [
    "### Train Test Split"
   ]
  },
  {
   "cell_type": "code",
   "execution_count": 9,
   "metadata": {},
   "outputs": [],
   "source": [
    "from sklearn.model_selection import train_test_split\n",
    "from sklearn.linear_model import LinearRegression\n",
    "from sklearn import metrics"
   ]
  },
  {
   "cell_type": "code",
   "execution_count": 10,
   "metadata": {},
   "outputs": [
    {
     "data": {
      "text/plain": [
       "array([0.26002615, 0.4557604 , 0.94998155, 0.5191343 , 0.89858078,\n",
       "       0.9268418 , 0.80574887, 0.71585958, 0.34796251, 0.04546023,\n",
       "       0.65937879, 0.77479055, 0.41243933, 0.37767542, 0.94277085,\n",
       "       0.65501569, 0.77671673, 0.73016028, 0.60469216, 0.22962041,\n",
       "       0.34770766, 0.74048703, 0.7403778 , 0.83720866, 0.88409774,\n",
       "       0.23966015, 0.06819688, 0.59239183, 0.44211056, 0.05819459,\n",
       "       0.72909051, 0.4539342 , 0.51731857, 0.47746932, 0.04635829,\n",
       "       0.60723762, 0.51647621, 0.30371033, 0.76910529, 0.09248636,\n",
       "       0.72394894, 0.16820989, 0.33252825, 0.92461902, 0.08154006,\n",
       "       0.        , 0.17318193, 0.22351512, 0.95713825, 0.07239317,\n",
       "       0.27264887, 0.27750467, 0.20091437, 0.64783662, 0.70049653,\n",
       "       0.66764984, 0.33196519, 0.22154217, 0.5422421 , 0.26430157,\n",
       "       0.92324292, 0.11362972, 0.39009232, 0.76143073, 0.35114262,\n",
       "       0.80309342, 0.26427521, 0.49301395, 0.77127774, 0.20012181,\n",
       "       0.49164026, 0.366814  , 0.60467561, 0.65080385, 0.49895381,\n",
       "       0.48455046, 0.01862448, 0.42626131, 1.        , 0.15555106,\n",
       "       0.10409406, 0.40584013, 0.2004266 , 0.80090511, 0.47906768,\n",
       "       0.71009737, 0.80916663, 0.80012145, 0.63205191, 0.48207546,\n",
       "       0.04222965, 0.62608072, 0.2958029 , 0.40212218, 0.22323744,\n",
       "       0.7311396 , 0.53088703, 0.75403264, 0.23548227, 0.56116908])"
      ]
     },
     "execution_count": 10,
     "metadata": {},
     "output_type": "execute_result"
    }
   ],
   "source": [
    "x = scaled_features.iloc[:,1]\n",
    "x1 = np.array(x)\n",
    "x1"
   ]
  },
  {
   "cell_type": "code",
   "execution_count": 11,
   "metadata": {},
   "outputs": [
    {
     "data": {
      "text/plain": [
       "array([0.4678427 , 0.529614  , 0.87027155, 0.5302349 , 0.76442454,\n",
       "       0.81936541, 0.63341337, 0.56497343, 0.51326968, 0.12954088,\n",
       "       0.54347296, 0.6042558 , 0.52655323, 0.52101076, 0.85381562,\n",
       "       0.54234246, 0.60588504, 0.57274547, 0.5335784 , 0.44217353,\n",
       "       0.51319013, 0.57902377, 0.57895385, 0.6700055 , 0.73918422,\n",
       "       0.451303  , 0.18555021, 0.53242829, 0.52900666, 0.16160355,\n",
       "       0.57212682, 0.5295484 , 0.53023442, 0.53011074, 0.13186142,\n",
       "       0.53386024, 0.53023134, 0.49518837, 0.59958468, 0.23934293,\n",
       "       0.56924057, 0.37066924, 0.50793313, 0.81476236, 0.2158518 ,\n",
       "       0.        , 0.3775342 , 0.43629187, 0.8871439 , 0.19528147,\n",
       "       0.47682984, 0.48004458, 0.41224491, 0.54062575, 0.55774761,\n",
       "       0.54580572, 0.50772031, 0.43433674, 0.53035566, 0.47099214,\n",
       "       0.8119376 , 0.28134229, 0.52337956, 0.59359213, 0.51425134,\n",
       "       0.63065618, 0.4709704 , 0.53022122, 0.60134611, 0.41133413,\n",
       "       0.53021783, 0.51853799, 0.53357663, 0.54131368, 0.53023378,\n",
       "       0.53017599, 0.05600024, 0.52791506, 1.        , 0.35226962,\n",
       "       0.26293898, 0.52574968, 0.41168788, 0.62842167, 0.53012775,\n",
       "       0.56213119, 0.63703415, 0.62762928, 0.53743627, 0.53015895,\n",
       "       0.12112291, 0.53642525, 0.49099728, 0.52524819, 0.43601783,\n",
       "       0.57331526, 0.53026281, 0.58815677, 0.44758571, 0.53074724])"
      ]
     },
     "execution_count": 11,
     "metadata": {},
     "output_type": "execute_result"
    }
   ],
   "source": [
    "t = scaled_features.iloc[:,2]\n",
    "t1 = np.array(t)\n",
    "t1"
   ]
  },
  {
   "cell_type": "markdown",
   "metadata": {},
   "source": [
    "# 3-A-1\n",
    "## Run the algorithm for once"
   ]
  },
  {
   "cell_type": "code",
   "execution_count": 12,
   "metadata": {},
   "outputs": [
    {
     "data": {
      "text/plain": [
       "((30,), (30,), (70,), (70,))"
      ]
     },
     "execution_count": 12,
     "metadata": {},
     "output_type": "execute_result"
    }
   ],
   "source": [
    "x_train, x_test, t_train, t_test = train_test_split(x1, t1, test_size = 0.7, train_size = 0.3, random_state = None)\n",
    "x_train.shape, t_train.shape, x_test.shape, t_test.shape"
   ]
  },
  {
   "cell_type": "markdown",
   "metadata": {},
   "source": [
    "Landa:"
   ]
  },
  {
   "cell_type": "code",
   "execution_count": 13,
   "metadata": {},
   "outputs": [
    {
     "data": {
      "text/plain": [
       "array([1.e-08, 1.e-07, 1.e-06, 1.e-05, 1.e-04, 1.e-03, 1.e-02, 1.e-01,\n",
       "       1.e+00, 1.e+01, 1.e+02, 1.e+03, 1.e+04])"
      ]
     },
     "execution_count": 13,
     "metadata": {},
     "output_type": "execute_result"
    }
   ],
   "source": [
    "alphas = np.logspace(start = -8, stop = 4, num = 13)\n",
    "alphas"
   ]
  },
  {
   "cell_type": "markdown",
   "metadata": {},
   "source": [
    "Transformed data with transformation function(fi2 = [1, x, x^2, ..., x^10])"
   ]
  },
  {
   "cell_type": "code",
   "execution_count": 14,
   "metadata": {},
   "outputs": [],
   "source": [
    "from sklearn.preprocessing import PolynomialFeatures\n",
    "\n",
    "poly = PolynomialFeatures(degree = 10, include_bias=True)\n",
    "train_data_transformation = poly.fit_transform(x_train[:, np.newaxis]) #add a new column instead of reshape(-1,1)\n",
    "test_data_transformation = poly.fit_transform(x_test[:, np.newaxis])"
   ]
  },
  {
   "cell_type": "markdown",
   "metadata": {},
   "source": [
    "### Find W "
   ]
  },
  {
   "cell_type": "code",
   "execution_count": 15,
   "metadata": {},
   "outputs": [],
   "source": [
    "from sklearn.linear_model import Ridge\n",
    "from sklearn.metrics import mean_squared_error\n",
    "from tabulate import tabulate"
   ]
  },
  {
   "cell_type": "code",
   "execution_count": 16,
   "metadata": {},
   "outputs": [
    {
     "name": "stdout",
     "output_type": "stream",
     "text": [
      "Alpha:  1e-08 \n",
      "RMSE:  None \n",
      "W=  [ 0.          3.10691832 -6.00851658  3.58575502  0.75016101 -0.54342119\n",
      " -0.10873069  0.25128652  0.09476427 -0.16290597  0.03404953]\n",
      "-----------------------------------------------------------------------------\n",
      "Alpha:  1e-07 \n",
      "RMSE:  None \n",
      "W=  [ 0.          3.07362895 -5.76550406  2.88341144  1.48794942 -0.38700724\n",
      " -0.6090772  -0.06074473  0.36523065  0.29499385 -0.28499439]\n",
      "-----------------------------------------------------------------------------\n",
      "Alpha:  1e-06 \n",
      "RMSE:  None \n",
      "W=  [ 0.00000000e+00  2.99697353e+00 -5.30215344e+00  1.90517899e+00\n",
      "  1.93898083e+00  1.72273667e-01 -6.32067982e-01 -4.40973609e-01\n",
      "  5.95992911e-02  3.02020504e-01  9.79760299e-04]\n",
      "-----------------------------------------------------------------------------\n",
      "Alpha:  1e-05 \n",
      "RMSE:  None \n",
      "W=  [ 0.          2.85044359 -4.54936489  0.68757582  1.99283114  0.97736543\n",
      " -0.17263146 -0.69804904 -0.59699662 -0.09208509  0.59502794]\n",
      "-----------------------------------------------------------------------------\n",
      "Alpha:  0.0001 \n",
      "RMSE:  None \n",
      "W=  [ 0.          2.55427597 -3.42387779 -0.27704495  1.27769864  1.1371317\n",
      "  0.46898872 -0.09004147 -0.34663674 -0.3118188  -0.0619119 ]\n",
      "-----------------------------------------------------------------------------\n",
      "Alpha:  0.001 \n",
      "RMSE:  None \n",
      "W=  [ 0.          2.0471108  -2.0140195  -0.81318198  0.37071321  0.78858382\n",
      "  0.71333186  0.42713719  0.0919741  -0.21704364 -0.47220697]\n",
      "-----------------------------------------------------------------------------\n",
      "Alpha:  0.01 \n",
      "RMSE:  None \n",
      "W=  [ 0.          1.31266475 -0.65196667 -0.59456725 -0.20738543  0.0700333\n",
      "  0.20844242  0.2520006   0.24155055  0.20417118  0.15593977]\n",
      "-----------------------------------------------------------------------------\n",
      "Alpha:  0.1 \n",
      "RMSE:  None \n",
      "W=  [ 0.          0.61944926 -0.05694999 -0.18147201 -0.1260075  -0.04113593\n",
      "  0.03195872  0.08593696  0.12272746  0.14612051  0.1596633 ]\n",
      "-----------------------------------------------------------------------------\n",
      "Alpha:  1.0 \n",
      "RMSE:  None \n",
      "W=  [0.         0.20802901 0.09212214 0.04635733 0.03311988 0.03080133\n",
      " 0.03157372 0.03278028 0.03360452 0.03387935 0.033654  ]\n",
      "-----------------------------------------------------------------------------\n",
      "Alpha:  10.0 \n",
      "RMSE:  None \n",
      "W=  [0.         0.06399523 0.05148127 0.04139898 0.03478979 0.03017582\n",
      " 0.0267309  0.0240235  0.02181395 0.01995922 0.01836838]\n",
      "-----------------------------------------------------------------------------\n",
      "Alpha:  100.0 \n",
      "RMSE:  None \n",
      "W=  [0.         0.01033167 0.00923143 0.00785322 0.00677455 0.00594016\n",
      " 0.00528006 0.00474507 0.00430194 0.00392789 0.00360692]\n",
      "-----------------------------------------------------------------------------\n",
      "Alpha:  1000.0 \n",
      "RMSE:  None \n",
      "W=  [0.         0.0011111  0.00100462 0.0008598  0.00074383 0.00065307\n",
      " 0.00058083 0.00052209 0.00047335 0.00043216 0.00039681]\n",
      "-----------------------------------------------------------------------------\n",
      "Alpha:  10000.0 \n",
      "RMSE:  None \n",
      "W=  [0.00000000e+00 1.11967408e-04 1.01359585e-04 8.68005023e-05\n",
      " 7.51140610e-05 6.59583959e-05 5.86658450e-05 5.27336428e-05\n",
      " 4.78105844e-05 4.36509220e-05 4.00799273e-05]\n",
      "-----------------------------------------------------------------------------\n"
     ]
    }
   ],
   "source": [
    "rmse_test = []\n",
    "rmse_train = []\n",
    "\n",
    "for i in alphas:\n",
    "    model = Ridge(alpha = i)\n",
    "    model.fit(train_data_transformation, t_train)\n",
    "    \n",
    "    t_train_pred = model.predict(train_data_transformation)\n",
    "    train__rmse = rmse_train.append(np.sqrt(mean_squared_error(t_train, t_train_pred)))\n",
    "    \n",
    "    t_test_pred = model.predict(test_data_transformation)\n",
    "    test__rmse = rmse_test.append(np.sqrt(mean_squared_error(t_test, t_test_pred)))\n",
    "    \n",
    "    print(\"Alpha: \", i, \"\\nRMSE: \", test__rmse, \"\\nW= \", model.coef_)\n",
    "    print(\"-----------------------------------------------------------------------------\")"
   ]
  },
  {
   "cell_type": "markdown",
   "metadata": {},
   "source": [
    "### Training and test error chart"
   ]
  },
  {
   "cell_type": "code",
   "execution_count": 17,
   "metadata": {},
   "outputs": [
    {
     "data": {
      "image/png": "[encoded data removed]",
      "text/plain": [
       "<Figure size 432x288 with 1 Axes>"
      ]
     },
     "metadata": {
      "needs_background": "light"
     },
     "output_type": "display_data"
    }
   ],
   "source": [
    "plt.plot(np.log(alphas), rmse_train, color = 'blue', label = 'train error')\n",
    "plt.plot(np.log(alphas), rmse_test, color = 'red', label = 'test error')\n",
    "plt.title('Train and Test Error Line Chart')\n",
    "plt.xlabel('ln lambda')\n",
    "plt.ylabel('RMSE')\n",
    "plt.legend()\n",
    "plt.show()"
   ]
  },
  {
   "cell_type": "markdown",
   "metadata": {},
   "source": [
    "# Run the algorithm for 100 times"
   ]
  },
  {
   "cell_type": "code",
   "execution_count": 18,
   "metadata": {},
   "outputs": [],
   "source": [
    "from sklearn.preprocessing import PolynomialFeatures\n",
    "from sklearn.linear_model import Ridge\n",
    "from sklearn.metrics import mean_squared_error\n",
    "\n",
    "dic = {'#run': [], 'lambda': [], 'rmse_test':[], 'rmse_train':[], 'weight':[]}\n",
    "rmse = pd.DataFrame(dic)\n",
    "\n",
    "for i in range(100):\n",
    "    x_train, x_test, t_train, t_test = train_test_split(x1, t1, test_size = 0.7, train_size = 0.3, random_state = None)\n",
    "    \n",
    "    alphas = np.logspace(start = -8, stop = 4, num = 13)\n",
    "    #alphas are array([1.e-08, 1.e-07, 1.e-06, 1.e-05, 1.e-04, 1.e-03, 1.e-02, 1.e-01, 1.e+00, 1.e+01, 1.e+02, 1.e+03, 1.e+04])\n",
    "    \n",
    "    #Transformed data with transformation function(fi2 = [1, x, x^2, ..., x^10])\n",
    "    poly = PolynomialFeatures(degree = 10, include_bias = True)\n",
    "    train_data_transformation = poly.fit_transform(x_train[:, np.newaxis]) #add a new column instead of reshape(-1,1)\n",
    "    test_data_transformation = poly.fit_transform(x_test[:, np.newaxis])\n",
    "\n",
    "    for j in alphas:\n",
    "        model = Ridge(alpha = j)\n",
    "        model.fit(train_data_transformation, t_train)\n",
    "    \n",
    "        t_train_pred = model.predict(train_data_transformation)\n",
    "        rmse_train = np.sqrt(mean_squared_error(t_train, t_train_pred))\n",
    "    \n",
    "        t_test_pred = model.predict(test_data_transformation)\n",
    "        rmse_test = np.sqrt(mean_squared_error(t_test, t_test_pred))\n",
    "        \n",
    "        \n",
    "        new_row = pd.Series(data={'#run': i+1, 'lambda': j, 'rmse_test': rmse_test, 'rmse_train': rmse_train, 'weight' : model.coef_}, name = 'sth')\n",
    "        rmse = rmse.append(new_row, ignore_index=True)"
   ]
  },
  {
   "cell_type": "code",
   "execution_count": 19,
   "metadata": {},
   "outputs": [
    {
     "name": "stdout",
     "output_type": "stream",
     "text": [
      "          lambda  rmse_test  rmse_train\n",
      "0   1.000000e-08   0.000150    0.000017\n",
      "1   1.000000e-07   0.000348    0.000078\n",
      "2   1.000000e-06   0.001348    0.000345\n",
      "3   1.000000e-05   0.003105    0.001260\n",
      "4   1.000000e-04   0.009996    0.004608\n",
      "5   1.000000e-03   0.019677    0.012986\n",
      "6   1.000000e-02   0.043064    0.031889\n",
      "7   1.000000e-01   0.067376    0.055775\n",
      "8   1.000000e+00   0.089033    0.077622\n",
      "9   1.000000e+01   0.117749    0.105438\n",
      "10  1.000000e+02   0.160805    0.148709\n",
      "11  1.000000e+03   0.171697    0.160038\n",
      "12  1.000000e+04   0.172950    0.161349\n"
     ]
    }
   ],
   "source": [
    "rmse_summary = rmse.groupby(['lambda'], as_index=False)['rmse_test', 'rmse_train'].mean()\n",
    "print(rmse_summary)"
   ]
  },
  {
   "cell_type": "markdown",
   "metadata": {},
   "source": [
    "Minimum average RMSE for the test data is occurred when alpha is 1e-5."
   ]
  },
  {
   "cell_type": "markdown",
   "metadata": {},
   "source": [
    "### W for each lambda"
   ]
  },
  {
   "cell_type": "code",
   "execution_count": 20,
   "metadata": {},
   "outputs": [
    {
     "name": "stdout",
     "output_type": "stream",
     "text": [
      "Alpha:  1e-08 \n",
      "RMSE_test:  8.579420801432824e-06 \n",
      "W=  [ 0.00000000e+00  3.11698957e+00 -6.08578144e+00  3.83920218e+00\n",
      "  3.84122512e-01 -4.10069260e-01  4.61514287e-02  2.04321923e-01\n",
      " -3.98268251e-03 -1.62802270e-01  7.17957002e-02]\n",
      "-----------------------------------------------------------------------------\n",
      "Alpha:  1e-07 \n",
      "RMSE_test:  6.004013815092604e-05 \n",
      "W=  [ 0.          3.10759455 -5.99418566  3.50923431  0.84347621 -0.47698303\n",
      " -0.22381121  0.15618305  0.16318047 -0.03017697 -0.05474717]\n",
      "-----------------------------------------------------------------------------\n",
      "Alpha:  1e-06 \n",
      "RMSE_test:  0.00018578118764377624 \n",
      "W=  [ 0.          3.07842974 -5.76758169  2.86152633  1.47958327 -0.30916124\n",
      " -0.60529682 -0.12340049  0.32746734  0.32090435 -0.26344824]\n",
      "-----------------------------------------------------------------------------\n",
      "Alpha:  1e-05 \n",
      "RMSE_test:  0.001073068338875139 \n",
      "W=  [ 0.          2.96393245 -5.09354044  1.59096321  1.79867466  0.47831181\n",
      " -0.34033674 -0.48482219 -0.25589109  0.05784619  0.2800241 ]\n",
      "-----------------------------------------------------------------------------\n",
      "Alpha:  0.0001 \n",
      "RMSE_test:  0.003386406932118319 \n",
      "W=  [ 0.          2.71427296 -4.02669924  0.28976653  1.58900541  1.0529905\n",
      "  0.15932732 -0.43520387 -0.5571692  -0.23693429  0.43061671]\n",
      "-----------------------------------------------------------------------------\n",
      "Alpha:  0.001 \n",
      "RMSE_test:  0.010330887095733415 \n",
      "W=  [ 0.          2.27136067 -2.52863599 -0.67789682  0.58817809  0.91643552\n",
      "  0.74674822  0.3973331   0.02940804 -0.28970462 -0.53971364]\n",
      "-----------------------------------------------------------------------------\n",
      "Alpha:  0.01 \n",
      "RMSE_test:  0.028156056916585032 \n",
      "W=  [ 0.          1.45289101 -0.9254693  -0.61866907 -0.07889355  0.24146908\n",
      "  0.35082008  0.32132513  0.21164324  0.06014942 -0.10976425]\n",
      "-----------------------------------------------------------------------------\n",
      "Alpha:  0.1 \n",
      "RMSE_test:  0.04940679653675297 \n",
      "W=  [ 0.          0.80686408 -0.09190886 -0.22866973 -0.15805226 -0.05859277\n",
      "  0.02461001  0.08505078  0.12601201  0.15226801  0.1679448 ]\n",
      "-----------------------------------------------------------------------------\n",
      "Alpha:  1.0 \n",
      "RMSE_test:  0.06663023709676799 \n",
      "W=  [0.         0.29566727 0.11162875 0.04563601 0.02639215 0.02282748\n",
      " 0.02399223 0.02614036 0.02805904 0.02942874 0.0302367 ]\n",
      "-----------------------------------------------------------------------------\n",
      "Alpha:  10.0 \n",
      "RMSE_test:  0.08493749669871557 \n",
      "W=  [0.         0.08627187 0.06497586 0.0519528  0.04422125 0.03906125\n",
      " 0.03524016 0.03219532 0.02964933 0.02745267 0.02551749]\n",
      "-----------------------------------------------------------------------------\n",
      "Alpha:  100.0 \n",
      "RMSE_test:  0.1303913529795181 \n",
      "W=  [0.         0.01563483 0.01517769 0.0139481  0.01290282 0.01204613\n",
      " 0.01132859 0.01071397 0.01017809 0.00970449 0.00928148]\n",
      "-----------------------------------------------------------------------------\n",
      "Alpha:  1000.0 \n",
      "RMSE_test:  0.1445728761701938 \n",
      "W=  [0.         0.00179612 0.00177793 0.00165155 0.00153683 0.00143968\n",
      " 0.00135675 0.00128488 0.00122176 0.00116569 0.00111544]\n",
      "-----------------------------------------------------------------------------\n",
      "Alpha:  10000.0 \n",
      "RMSE_test:  0.14636210847546577 \n",
      "W=  [0.         0.00018242 0.00018093 0.00016826 0.00015666 0.00014681\n",
      " 0.00013838 0.00013107 0.00012464 0.00011893 0.00011381]\n",
      "-----------------------------------------------------------------------------\n"
     ]
    }
   ],
   "source": [
    "minErr = rmse.loc[rmse.groupby('lambda')['rmse_test'].idxmin()]\n",
    "for i, item in minErr.iterrows():\n",
    "    print(\"Alpha: \", item['lambda'], \"\\nRMSE_test: \", item['rmse_test'], \"\\nW= \", item['weight'])\n",
    "    print('-----------------------------------------------------------------------------')"
   ]
  },
  {
   "cell_type": "code",
   "execution_count": 21,
   "metadata": {},
   "outputs": [
    {
     "data": {
      "image/png": "[encoded data removed]",
      "text/plain": [
       "<Figure size 432x288 with 1 Axes>"
      ]
     },
     "metadata": {
      "needs_background": "light"
     },
     "output_type": "display_data"
    }
   ],
   "source": [
    "plt.plot(np.log(alphas), 'rmse_train', data = rmse_summary, color = 'blue', label = 'train error')\n",
    "plt.plot(np.log(alphas), 'rmse_test', data = rmse_summary, color = 'red', label = 'test error')\n",
    "plt.title('Train and Test Error Line Chart')\n",
    "plt.xlabel('ln lambda')\n",
    "plt.ylabel('RMSE')\n",
    "plt.legend()\n",
    "plt.show()"
   ]
  },
  {
   "cell_type": "code",
   "execution_count": 22,
   "metadata": {},
   "outputs": [
    {
     "name": "stdout",
     "output_type": "stream",
     "text": [
      "Alpha:  1e-05 \n",
      "RMSE:  0.0019593157470061805 \n",
      "W=  [ 0.          2.86619046 -4.55027238  0.66718186  1.89814451  1.06743638\n",
      " -0.04875677 -0.69947636 -0.72042051 -0.19625748  0.7143503 ]\n"
     ]
    },
    {
     "data": {
      "text/plain": [
       "[Text(0.5, 1.0, 'Model Representation')]"
      ]
     },
     "execution_count": 22,
     "metadata": {},
     "output_type": "execute_result"
    },
    {
     "data": {
      "image/png": "[encoded data removed]",
      "text/plain": [
       "<Figure size 432x288 with 1 Axes>"
      ]
     },
     "metadata": {
      "needs_background": "light"
     },
     "output_type": "display_data"
    }
   ],
   "source": [
    "x_train, x_test, t_train, t_test = train_test_split(x1, t1, test_size = 0.7, train_size = 0.3, random_state = None)\n",
    "\n",
    "poly = PolynomialFeatures(degree = 10, include_bias = True)\n",
    "train_data_transformation = poly.fit_transform(x_train[:, np.newaxis]) #add a new column instead of reshape(-1,1)\n",
    "test_data_transformation = poly.fit_transform(x_test[:, np.newaxis])\n",
    "\n",
    "model = Ridge(alpha = alphas[3], normalize = True).fit(train_data_transformation, t_train)\n",
    "\n",
    "t_test_pred = model.predict(test_data_transformation)\n",
    "selected_rmse = np.sqrt(mean_squared_error(t_test, t_test_pred))\n",
    "\n",
    "print(\"Alpha: \", 1e-5, \"\\nRMSE: \", selected_rmse, \"\\nW= \", model.coef_)\n",
    "\n",
    "sns.scatterplot(x_test, t_test)\n",
    "ax = sns.lineplot(x_test, t_test_pred, color=\"orange\")\n",
    "ax.set(xlabel='test values', ylabel='prediction')\n",
    "ax.set(title='Model Representation')"
   ]
  },
  {
   "cell_type": "markdown",
   "metadata": {},
   "source": [
    "# 3-A-2\n",
    "## K_fold_CV\n",
    "## Run the algorithm for once"
   ]
  },
  {
   "cell_type": "code",
   "execution_count": 23,
   "metadata": {},
   "outputs": [],
   "source": [
    "from sklearn.model_selection import KFold"
   ]
  },
  {
   "cell_type": "code",
   "execution_count": 24,
   "metadata": {},
   "outputs": [
    {
     "data": {
      "text/plain": [
       "((30,), (30,), (70,), (70,))"
      ]
     },
     "execution_count": 24,
     "metadata": {},
     "output_type": "execute_result"
    }
   ],
   "source": [
    "x_KFold, x_test, t_KFold, t_test = train_test_split(x1, t1, test_size = 0.7, train_size = 0.3)\n",
    "x_KFold.shape, t_KFold.shape, x_test.shape, t_test.shape"
   ]
  },
  {
   "cell_type": "code",
   "execution_count": 25,
   "metadata": {},
   "outputs": [],
   "source": [
    "alphas = np.logspace(start = -8, stop = 4, num = 13)\n",
    "\n",
    "poly = PolynomialFeatures(degree = 10)\n",
    "KFold_data_transformation = poly.fit_transform(x_KFold[:, np.newaxis]) #add a new column instead of reshape(-1,1)\n",
    "test_data_transformation = poly.fit_transform(x_test[:, np.newaxis])"
   ]
  },
  {
   "cell_type": "code",
   "execution_count": 26,
   "metadata": {},
   "outputs": [],
   "source": [
    "rmse_train = []\n",
    "rmse_validation = []\n",
    "rmse_test = []\n",
    "\n",
    "mean_train_error = []\n",
    "mean_validation_error = []\n",
    "\n",
    "kf = KFold(n_splits=10, shuffle=False)\n",
    "\n",
    "for i in alphas:\n",
    "    for train_index, validation_index in kf.split(x_KFold, t_KFold):\n",
    "        \n",
    "        x_train, x_validation = KFold_data_transformation[train_index], KFold_data_transformation[validation_index]\n",
    "        t_train, t_validation = t_KFold[train_index], t_KFold[validation_index]\n",
    "        \n",
    "        model = Ridge(alpha = i)\n",
    "        model.fit(x_train, t_train)\n",
    "        \n",
    "        t_train_pred = model.predict(x_train)\n",
    "        train__rmse = rmse_train.append(np.sqrt(mean_squared_error(t_train, t_train_pred)))\n",
    "    \n",
    "        t_validation_pred = model.predict(x_validation)\n",
    "        validation__rmse = rmse_validation.append(np.sqrt(mean_squared_error(t_validation, t_validation_pred)))\n",
    "    \n",
    "    t_test_pred = model.predict(test_data_transformation)\n",
    "    test__rmse = rmse_test.append(np.sqrt(mean_squared_error(t_test, t_test_pred)))\n",
    "    \n",
    "    \n",
    "    # mean errors: (train_error & validation_error)\n",
    "    mean_train_error.append(np.mean(rmse_train))\n",
    "    mean_validation_error.append(np.mean(rmse_validation))"
   ]
  },
  {
   "cell_type": "markdown",
   "metadata": {},
   "source": [
    "## Train, validation and test error chart"
   ]
  },
  {
   "cell_type": "code",
   "execution_count": 27,
   "metadata": {},
   "outputs": [
    {
     "data": {
      "image/png": "[encoded data removed]",
      "text/plain": [
       "<Figure size 432x288 with 1 Axes>"
      ]
     },
     "metadata": {
      "needs_background": "light"
     },
     "output_type": "display_data"
    }
   ],
   "source": [
    "plt.plot(np.log(alphas), mean_train_error, color = 'blue', label = 'train error')\n",
    "plt.plot(np.log(alphas), mean_validation_error, color = 'green', label = 'validation error')\n",
    "plt.plot(np.log(alphas), rmse_test, color = 'red', label = 'test error')\n",
    "\n",
    "plt.title('Train, Validation and Test Error Line Chart')\n",
    "plt.xlabel('ln lambda')\n",
    "plt.ylabel('RMSE')\n",
    "plt.legend()\n",
    "plt.show()"
   ]
  },
  {
   "cell_type": "markdown",
   "metadata": {},
   "source": [
    "## Run the algorithm for 100 times"
   ]
  },
  {
   "cell_type": "code",
   "execution_count": 28,
   "metadata": {},
   "outputs": [],
   "source": [
    "dic = {'#run': [], 'lambda': [], 'rmse_train':[], 'rmse_validation':[], 'rmse_test':[]}\n",
    "rmse = pd.DataFrame(dic)\n",
    "\n",
    "mean_train_error = []\n",
    "mean_validation_error = []\n",
    "\n",
    "for i in range(100):\n",
    "    x_KFold, x_test, t_KFold, t_test = train_test_split(x1, t1, test_size = 0.7, train_size = 0.3)\n",
    "    \n",
    "    alphas = np.logspace(start = -8, stop = 4, num = 13)\n",
    "    \n",
    "    poly = PolynomialFeatures(degree = 10)\n",
    "    KFold_data_transformation = poly.fit_transform(x_KFold[:, np.newaxis]) #add a new column instead of reshape(-1,1)\n",
    "    test_data_transformation = poly.fit_transform(x_test[:, np.newaxis])\n",
    "    \n",
    "    kf = KFold(n_splits=10, shuffle=False)\n",
    "    \n",
    "    for j in alphas:\n",
    "        \n",
    "        for train_index, validation_index in kf.split(x_KFold, t_KFold):\n",
    "        \n",
    "            x_train, x_validation = KFold_data_transformation[train_index], KFold_data_transformation[validation_index]\n",
    "            t_train, t_validation = t_KFold[train_index], t_KFold[validation_index]\n",
    "        \n",
    "            model = Ridge(alpha = j)\n",
    "            model.fit(x_train, t_train)\n",
    "        \n",
    "            t_train_pred = model.predict(x_train)\n",
    "            rmse_train = np.sqrt(mean_squared_error(t_train, t_train_pred))\n",
    "    \n",
    "            t_validation_pred = model.predict(x_validation)\n",
    "            rmse_validation = np.sqrt(mean_squared_error(t_validation, t_validation_pred))\n",
    "    \n",
    "        t_test_pred = model.predict(test_data_transformation)\n",
    "        rmse_test = np.sqrt(mean_squared_error(t_test, t_test_pred))\n",
    "    \n",
    "    \n",
    "        # mean errors: (train_error & validation_error)\n",
    "        mean_train_error.append(np.mean(rmse_train))\n",
    "        mean_validation_error.append(np.mean(rmse_validation))\n",
    "        \n",
    "        new_row = pd.Series(data={'#run': i+1, 'lambda': j, 'rmse_train':rmse_train, 'rmse_validation':rmse_validation, 'rmse_test': rmse_test}, name = 'sth')\n",
    "        rmse = rmse.append(new_row, ignore_index=True)"
   ]
  },
  {
   "cell_type": "code",
   "execution_count": 29,
   "metadata": {},
   "outputs": [
    {
     "name": "stdout",
     "output_type": "stream",
     "text": [
      "          lambda  rmse_train  rmse_validation  rmse_test\n",
      "0   1.000000e-08    0.000018         0.000044   0.000122\n",
      "1   1.000000e-07    0.000082         0.000143   0.000306\n",
      "2   1.000000e-06    0.000369         0.000596   0.001277\n",
      "3   1.000000e-05    0.001329         0.001711   0.002847\n",
      "4   1.000000e-04    0.004877         0.006321   0.009921\n",
      "5   1.000000e-03    0.013693         0.014660   0.019109\n",
      "6   1.000000e-02    0.033026         0.035841   0.042750\n",
      "7   1.000000e-01    0.057883         0.056966   0.067385\n",
      "8   1.000000e+00    0.079982         0.075083   0.088312\n",
      "9   1.000000e+01    0.109602         0.099149   0.117633\n",
      "10  1.000000e+02    0.153481         0.135076   0.159888\n",
      "11  1.000000e+03    0.164639         0.144193   0.170212\n",
      "12  1.000000e+04    0.165924         0.145262   0.171393\n"
     ]
    }
   ],
   "source": [
    "rmse_summary = rmse.groupby(['lambda'], as_index=False)['rmse_train', 'rmse_validation', 'rmse_test', ].mean()\n",
    "print(rmse_summary)"
   ]
  },
  {
   "cell_type": "code",
   "execution_count": 30,
   "metadata": {},
   "outputs": [
    {
     "data": {
      "text/plain": [
       "[Text(0.5, 1.0, 'Train, Validation and Test Error Line Chart')]"
      ]
     },
     "execution_count": 30,
     "metadata": {},
     "output_type": "execute_result"
    },
    {
     "data": {
      "image/png": "[encoded data removed]",
      "text/plain": [
       "<Figure size 432x288 with 1 Axes>"
      ]
     },
     "metadata": {
      "needs_background": "light"
     },
     "output_type": "display_data"
    }
   ],
   "source": [
    "ax = sns.lineplot(data=rmse_summary, x=np.log10(alphas), y='rmse_test',  color='red',  label= 'test error')\n",
    "ax = sns.lineplot(data=rmse_summary, x=np.log10(alphas), y = 'rmse_train', color='blue', label= 'train error')\n",
    "ax = sns.lineplot(data=rmse_summary, x=np.log10(alphas), y = 'rmse_validation', color='green', label= 'validation error')\n",
    "\n",
    "ax.set(xlabel='ln lambda', ylabel='RMSE')\n",
    "ax.set(title='Train, Validation and Test Error Line Chart')\n"
   ]
  },
  {
   "cell_type": "code",
   "execution_count": 31,
   "metadata": {},
   "outputs": [
    {
     "name": "stdout",
     "output_type": "stream",
     "text": [
      "Alpha:  1e-08 \n",
      "Mean_rmse_validation [0.39351157654735175, 0.16392010359825301, 0.1186448922130611, 0.10962003609577971, 0.12573288828956863, 0.19047430765340853, 0.10045655488519112, 0.25954058407177605, 0.13857134892272271, 0.09092236086537728]\n"
     ]
    }
   ],
   "source": [
    "rmse_validation = []\n",
    "xKFold, x_test, t_KFold, t_test = train_test_split(x1, t1, test_size = 0.7, train_size = 0.3, random_state = None)\n",
    "\n",
    "poly = PolynomialFeatures(degree = 10, include_bias = True)\n",
    "train_data_transformation = poly.fit_transform(x_KFold[:, np.newaxis]) #add a new column instead of reshape(-1,1)\n",
    "test_data_transformation = poly.fit_transform(x_test[:, np.newaxis])\n",
    "\n",
    "kf = KFold(n_splits=10, shuffle=False)\n",
    "\n",
    "for train_index, validation_index in kf.split(x_KFold, t_KFold):\n",
    "    \n",
    "    x_train, x_validation = KFold_data_transformation[train_index], KFold_data_transformation[validation_index]\n",
    "    t_train, t_validation = t_KFold[train_index], t_KFold[validation_index]\n",
    "        \n",
    "    model = Ridge(alpha = alphas[0], normalize = True).fit(x_train, t_train)\n",
    "\n",
    "    t_validation_pred = model.predict(x_validation)\n",
    "    rmse_validation.append(np.sqrt(mean_squared_error(t_validation, t_validation_pred)))\n",
    "    \n",
    "    \n",
    "\n",
    "print(\"Alpha: \", 1e-08, \"\\nMean_rmse_validation\", rmse_validation)"
   ]
  },
  {
   "cell_type": "markdown",
   "metadata": {},
   "source": [
    "# 3-B-1"
   ]
  },
  {
   "cell_type": "code",
   "execution_count": 32,
   "metadata": {},
   "outputs": [],
   "source": [
    "from mlxtend.evaluate import bias_variance_decomp"
   ]
  },
  {
   "cell_type": "code",
   "execution_count": 33,
   "metadata": {},
   "outputs": [],
   "source": [
    "def update_data(size):\n",
    "    # Generate 100 random x in the range of -3 to 3\n",
    "    x = np.random.uniform(-3, 3, size) \n",
    "     \n",
    "    # Generate random noise with mu=average and sigma=variance\n",
    "    e = np.random.normal(0, 2, x.size)\n",
    "     \n",
    "    # Generate y values as y = func(x) + e\n",
    "    y = np.zeros(x.size)\n",
    "     \n",
    "    for i in range(x.size):\n",
    "        t[i] = x[i]**3 - 3*(x[i]**2) - x[i] + 3 + e[i]\n",
    "    \n",
    "    \n",
    "    arr = {'X' : X, 'T' : T}\n",
    "    datas = pd.DataFrame(data = arr)\n",
    "    datas.to_csv('data.csv')\n",
    "    \n",
    "    data = pd.read_csv('./data.csv')\n",
    "    \n",
    "    scalar=MinMaxScaler()\n",
    "    scaled_features=pd.DataFrame(scalar.fit_transform(data), columns=data.columns)\n",
    "\n",
    "    return"
   ]
  },
  {
   "cell_type": "markdown",
   "metadata": {},
   "source": [
    "## for n = 20 sample"
   ]
  },
  {
   "cell_type": "code",
   "execution_count": 34,
   "metadata": {},
   "outputs": [],
   "source": [
    "dic = {'number_of_dataset': [], 'lambda': [], 'bias2': [], 'variance': [], 'rmse_test':[], 'rmse_train':[], 'weight':[]}\n",
    "report = pd.DataFrame(dic)\n",
    "\n",
    "rmse_train = []\n",
    "rmse_test = []\n",
    "\n",
    "for i in range(50):\n",
    "    update_data(20)\n",
    "\n",
    "    x = scaled_features.iloc[:,1]\n",
    "    x1 = np.array(x)\n",
    "    t = scaled_features.iloc[:,2]\n",
    "    t1 = np.array(t)\n",
    "    \n",
    "    x_train, x_test, t_train, t_test = train_test_split(x1, t1, train_size = 0.7,  test_size = 0.3, random_state = None)\n",
    "\n",
    "    poly = PolynomialFeatures(10, include_bias = True)\n",
    "    train_data_transformation = poly.fit_transform(x_train[:, np.newaxis])\n",
    "    test_data_transformation = poly.fit_transform(x_test[:, np.newaxis])\n",
    "\n",
    "    alphas = np.logspace(-8, 4, 13)\n",
    "    \n",
    "    for j in alphas:\n",
    "        model = Ridge(alpha = j, normalize = True).fit(train_data_transformation, t_train)\n",
    "        \n",
    "        t_train_pred = model.predict(train_data_transformation)\n",
    "        rmse_train = np.sqrt(mean_squared_error(t_train, t_train_pred))\n",
    "    \n",
    "        t_test_pred = model.predict(test_data_transformation)\n",
    "        rmse_test = np.sqrt(mean_squared_error(t_test, t_test_pred))\n",
    "    \n",
    "        mse20, bias20, variance20 = bias_variance_decomp(model, train_data_transformation, t_train, test_data_transformation, t_test, loss='mse')\n",
    "\n",
    "        new_row = pd.Series(data={'number_of_dataset': i+1, 'lambda': j, 'bias2': bias20, 'variance': variance20, 'rmse_test': rmse_test, 'rmse_train': rmse_train, 'weight' : model.coef_}, name = 'sth')\n",
    "        report = report.append(new_row, ignore_index=True)"
   ]
  },
  {
   "cell_type": "code",
   "execution_count": 35,
   "metadata": {},
   "outputs": [
    {
     "data": {
      "text/html": [
       "<div>\n",
       "<style scoped>\n",
       "    .dataframe tbody tr th:only-of-type {\n",
       "        vertical-align: middle;\n",
       "    }\n",
       "\n",
       "    .dataframe tbody tr th {\n",
       "        vertical-align: top;\n",
       "    }\n",
       "\n",
       "    .dataframe thead th {\n",
       "        text-align: right;\n",
       "    }\n",
       "</style>\n",
       "<table border=\"1\" class=\"dataframe\">\n",
       "  <thead>\n",
       "    <tr style=\"text-align: right;\">\n",
       "      <th></th>\n",
       "      <th>lambda</th>\n",
       "      <th>bias2</th>\n",
       "      <th>variance</th>\n",
       "      <th>rmse_test</th>\n",
       "      <th>rmse_train</th>\n",
       "    </tr>\n",
       "  </thead>\n",
       "  <tbody>\n",
       "    <tr>\n",
       "      <th>0</th>\n",
       "      <td>1.000000e-08</td>\n",
       "      <td>55.894356</td>\n",
       "      <td>154.948685</td>\n",
       "      <td>6.252583</td>\n",
       "      <td>5.102137</td>\n",
       "    </tr>\n",
       "    <tr>\n",
       "      <th>1</th>\n",
       "      <td>1.000000e-07</td>\n",
       "      <td>50.800278</td>\n",
       "      <td>86.742024</td>\n",
       "      <td>6.099887</td>\n",
       "      <td>5.121391</td>\n",
       "    </tr>\n",
       "    <tr>\n",
       "      <th>2</th>\n",
       "      <td>1.000000e-06</td>\n",
       "      <td>44.825541</td>\n",
       "      <td>28.284478</td>\n",
       "      <td>5.995468</td>\n",
       "      <td>5.145397</td>\n",
       "    </tr>\n",
       "    <tr>\n",
       "      <th>3</th>\n",
       "      <td>1.000000e-05</td>\n",
       "      <td>41.389850</td>\n",
       "      <td>22.254031</td>\n",
       "      <td>5.863623</td>\n",
       "      <td>5.166343</td>\n",
       "    </tr>\n",
       "    <tr>\n",
       "      <th>4</th>\n",
       "      <td>1.000000e-04</td>\n",
       "      <td>39.510355</td>\n",
       "      <td>9.833935</td>\n",
       "      <td>5.726974</td>\n",
       "      <td>5.186263</td>\n",
       "    </tr>\n",
       "    <tr>\n",
       "      <th>5</th>\n",
       "      <td>1.000000e-03</td>\n",
       "      <td>37.943988</td>\n",
       "      <td>6.117516</td>\n",
       "      <td>5.628601</td>\n",
       "      <td>5.208140</td>\n",
       "    </tr>\n",
       "    <tr>\n",
       "      <th>6</th>\n",
       "      <td>1.000000e-02</td>\n",
       "      <td>37.644156</td>\n",
       "      <td>3.752491</td>\n",
       "      <td>5.586524</td>\n",
       "      <td>5.229485</td>\n",
       "    </tr>\n",
       "    <tr>\n",
       "      <th>7</th>\n",
       "      <td>1.000000e-01</td>\n",
       "      <td>37.005805</td>\n",
       "      <td>2.537438</td>\n",
       "      <td>5.535772</td>\n",
       "      <td>5.249088</td>\n",
       "    </tr>\n",
       "    <tr>\n",
       "      <th>8</th>\n",
       "      <td>1.000000e+00</td>\n",
       "      <td>36.325133</td>\n",
       "      <td>1.494142</td>\n",
       "      <td>5.465287</td>\n",
       "      <td>5.273717</td>\n",
       "    </tr>\n",
       "    <tr>\n",
       "      <th>9</th>\n",
       "      <td>1.000000e+01</td>\n",
       "      <td>35.696167</td>\n",
       "      <td>0.702034</td>\n",
       "      <td>5.386552</td>\n",
       "      <td>5.317128</td>\n",
       "    </tr>\n",
       "    <tr>\n",
       "      <th>10</th>\n",
       "      <td>1.000000e+02</td>\n",
       "      <td>35.568020</td>\n",
       "      <td>0.470669</td>\n",
       "      <td>5.364769</td>\n",
       "      <td>5.365666</td>\n",
       "    </tr>\n",
       "    <tr>\n",
       "      <th>11</th>\n",
       "      <td>1.000000e+03</td>\n",
       "      <td>35.565186</td>\n",
       "      <td>0.469957</td>\n",
       "      <td>5.364883</td>\n",
       "      <td>5.377039</td>\n",
       "    </tr>\n",
       "    <tr>\n",
       "      <th>12</th>\n",
       "      <td>1.000000e+04</td>\n",
       "      <td>35.587451</td>\n",
       "      <td>0.475440</td>\n",
       "      <td>5.364977</td>\n",
       "      <td>5.378322</td>\n",
       "    </tr>\n",
       "  </tbody>\n",
       "</table>\n",
       "</div>"
      ],
      "text/plain": [
       "          lambda      bias2    variance  rmse_test  rmse_train\n",
       "0   1.000000e-08  55.894356  154.948685   6.252583    5.102137\n",
       "1   1.000000e-07  50.800278   86.742024   6.099887    5.121391\n",
       "2   1.000000e-06  44.825541   28.284478   5.995468    5.145397\n",
       "3   1.000000e-05  41.389850   22.254031   5.863623    5.166343\n",
       "4   1.000000e-04  39.510355    9.833935   5.726974    5.186263\n",
       "5   1.000000e-03  37.943988    6.117516   5.628601    5.208140\n",
       "6   1.000000e-02  37.644156    3.752491   5.586524    5.229485\n",
       "7   1.000000e-01  37.005805    2.537438   5.535772    5.249088\n",
       "8   1.000000e+00  36.325133    1.494142   5.465287    5.273717\n",
       "9   1.000000e+01  35.696167    0.702034   5.386552    5.317128\n",
       "10  1.000000e+02  35.568020    0.470669   5.364769    5.365666\n",
       "11  1.000000e+03  35.565186    0.469957   5.364883    5.377039\n",
       "12  1.000000e+04  35.587451    0.475440   5.364977    5.378322"
      ]
     },
     "execution_count": 35,
     "metadata": {},
     "output_type": "execute_result"
    }
   ],
   "source": [
    "summary = report.groupby(['lambda'], as_index=False)['bias2', 'variance', 'rmse_test', 'rmse_train'].mean()\n",
    "summary"
   ]
  },
  {
   "cell_type": "code",
   "execution_count": 36,
   "metadata": {},
   "outputs": [
    {
     "name": "stdout",
     "output_type": "stream",
     "text": [
      "Alpha:  1e-08 \n",
      "RMSE_test:  1.9831996666545257 \n",
      "W=  [     0.             25.1103364    -198.72847637    446.53251624\n",
      "    895.92187154  -4140.63125087   1207.08126032   6417.97919408\n",
      "   -217.38505022 -10436.15242818   6009.33698842]\n",
      "-----------------------------------------------------------------------------\n",
      "Alpha:  1e-07 \n",
      "RMSE_test:  1.5660881548902843 \n",
      "W=  [   0.          -32.08419058   50.65839812  258.81593291 -516.00685887\n",
      " -138.07834535  330.84934594  325.98969993  -34.49650663 -340.1679277\n",
      "   87.31239855]\n",
      "-----------------------------------------------------------------------------\n",
      "Alpha:  1e-06 \n",
      "RMSE_test:  1.51589502331039 \n",
      "W=  [    0.             8.47652929   -61.27957411   153.44204114\n",
      "    96.06680147  -317.16434031  -471.94172089    36.52844396\n",
      "   884.71317945   972.33958178 -1352.89827577]\n",
      "-----------------------------------------------------------------------------\n",
      "Alpha:  1e-05 \n",
      "RMSE_test:  1.6265104813981013 \n",
      "W=  [   0.           -2.27089829   53.98549844 -109.26147914  -19.50570767\n",
      "   82.30955127   82.92416543    1.71498739  -82.61516723  -82.85556104\n",
      "   73.93100569]\n",
      "-----------------------------------------------------------------------------\n",
      "Alpha:  0.0001 \n",
      "RMSE_test:  1.5684801892056934 \n",
      "W=  [   0.          -25.87253817   82.21789515   -9.27809709  -79.29295787\n",
      "  -63.49093863    3.63687245   69.22042083   90.40777472   38.15466624\n",
      " -105.89379735]\n",
      "-----------------------------------------------------------------------------\n",
      "Alpha:  0.001 \n",
      "RMSE_test:  1.529413187788334 \n",
      "W=  [ 0.          3.63952528  1.3960285  -1.37248388 -2.61076197 -3.67397879\n",
      " -4.88932089 -5.5422357  -4.30957057  0.41771929 10.36357173]\n",
      "-----------------------------------------------------------------------------\n",
      "Alpha:  0.01 \n",
      "RMSE_test:  1.5636816064343764 \n",
      "W=  [ 0.          4.0562767   0.68822437 -2.86126785 -4.63452483 -4.46134638\n",
      " -2.88239791 -0.54901162  2.01248704  4.44490583  6.53358271]\n",
      "-----------------------------------------------------------------------------\n",
      "Alpha:  0.1 \n",
      "RMSE_test:  1.545747449259142 \n",
      "W=  [ 0.          2.40209619  1.09115033 -0.2537792  -1.27792252 -1.95670858\n",
      " -2.32367232 -2.40548453 -2.21586593 -1.75937433 -1.03485326]\n",
      "-----------------------------------------------------------------------------\n",
      "Alpha:  1.0 \n",
      "RMSE_test:  1.4958495396881684 \n",
      "W=  [ 0.          0.0962431  -0.25442421 -0.57680315 -0.89249298 -1.20314173\n",
      " -1.5089644  -1.81039298 -2.10826424 -2.4036752  -2.6977672 ]\n",
      "-----------------------------------------------------------------------------\n",
      "Alpha:  10.0 \n",
      "RMSE_test:  1.2921596371200157 \n",
      "W=  [ 0.         -0.14876831 -0.18730176 -0.22825448 -0.2626288  -0.2899228\n",
      " -0.31157589 -0.32936641 -0.34481595 -0.35903139 -0.37273963]\n",
      "-----------------------------------------------------------------------------\n",
      "Alpha:  100.0 \n",
      "RMSE_test:  1.198703818605663 \n",
      "W=  [ 0.         -0.01179468 -0.0154443  -0.01924198 -0.02222848 -0.02435554\n",
      " -0.02583899 -0.02691199 -0.02775258 -0.02847988 -0.02916829]\n",
      "-----------------------------------------------------------------------------\n",
      "Alpha:  1000.0 \n",
      "RMSE_test:  1.1928832571171035 \n",
      "W=  [ 0.         -0.00438344 -0.00512578 -0.00587362 -0.00655236 -0.00718726\n",
      " -0.00780541 -0.00842728 -0.00906741 -0.00973603 -0.01044048]\n",
      "-----------------------------------------------------------------------------\n",
      "Alpha:  10000.0 \n",
      "RMSE_test:  1.1924933846844648 \n",
      "W=  [0.00000000e+00 2.14755386e-04 1.58140029e-04 1.19941623e-04\n",
      " 9.27922461e-05 7.34619696e-05 5.94663417e-05 4.89747300e-05\n",
      " 4.07566949e-05 3.40160882e-05 2.82384851e-05]\n",
      "-----------------------------------------------------------------------------\n"
     ]
    }
   ],
   "source": [
    "minErr = report.loc[report.groupby('lambda')['rmse_test'].idxmin()]\n",
    "for i, item in minErr.iterrows():\n",
    "    print(\"Alpha: \", item['lambda'], \"\\nRMSE_test: \", item['rmse_test'], \"\\nW= \", item['weight'])\n",
    "    print('-----------------------------------------------------------------------------')"
   ]
  },
  {
   "cell_type": "code",
   "execution_count": 37,
   "metadata": {},
   "outputs": [
    {
     "data": {
      "text/plain": [
       "[Text(0.5, 1.0, 'Bias2 and Variance for different lambda values')]"
      ]
     },
     "execution_count": 37,
     "metadata": {},
     "output_type": "execute_result"
    },
    {
     "data": {
      "image/png": "[encoded data removed]",
      "text/plain": [
       "<Figure size 432x288 with 1 Axes>"
      ]
     },
     "metadata": {
      "needs_background": "light"
     },
     "output_type": "display_data"
    }
   ],
   "source": [
    "ax = sns.lineplot(data=summary, x=np.log10(alphas), y='rmse_test',  color='red',  label= 'test error')\n",
    "ax = sns.lineplot(data=summary, x=np.log10(alphas), y='rmse_train', color='blue', label= 'train error')\n",
    "ax = sns.lineplot(data=summary, x=np.log10(alphas), y='bias2',  color='orange',  label= 'bias2')\n",
    "ax = sns.lineplot(data=summary, x=np.log10(alphas), y='variance', color='green', label= 'variance')\n",
    "ax.set(xlabel='ln lambda', ylabel='bias and variance')\n",
    "ax.set(title='Bias2 and Variance for different lambda values')"
   ]
  },
  {
   "cell_type": "markdown",
   "metadata": {},
   "source": [
    "## for n = 200 sample"
   ]
  },
  {
   "cell_type": "code",
   "execution_count": 38,
   "metadata": {},
   "outputs": [],
   "source": [
    "dic = {'number_of_dataset': [], 'lambda': [], 'bias2': [], 'variance': [], 'rmse_test':[], 'rmse_train':[], 'weight':[]}\n",
    "report = pd.DataFrame(dic)\n",
    "\n",
    "for i in range(50):\n",
    "    update_data(200)\n",
    "\n",
    "    x = scaled_features.iloc[:,1]\n",
    "    x1 = np.array(x)\n",
    "    t = scaled_features.iloc[:,2]\n",
    "    t1 = np.array(t)\n",
    "    \n",
    "    x_train, x_test, t_train, t_test = train_test_split(x1, t1, train_size = 0.7,  test_size = 0.3, random_state = None)\n",
    "\n",
    "    poly = PolynomialFeatures(10, include_bias = True)\n",
    "    train_data_transformation = poly.fit_transform(x_train[:, np.newaxis])\n",
    "    test_data_transformation = poly.fit_transform(x_test[:, np.newaxis])\n",
    "\n",
    "    alphas = np.logspace(-8, 4, 13)\n",
    "    \n",
    "    for j in alphas:\n",
    "        model = Ridge(alpha = j, normalize = True).fit(train_data_transformation, t_train)\n",
    "        \n",
    "        t_train_pred = model.predict(train_data_transformation)\n",
    "        rmse_train = np.sqrt(mean_squared_error(t_train, t_train_pred))\n",
    "    \n",
    "        t_test_pred = model.predict(test_data_transformation)\n",
    "        rmse_test = np.sqrt(mean_squared_error(t_test, t_test_pred))\n",
    "    \n",
    "        mse, bias2, variance = bias_variance_decomp(model, train_data_transformation, t_train, test_data_transformation, t_test, loss='mse', num_rounds=200)\n",
    "\n",
    "        new_row = pd.Series(data={'number_of_dataset': i+1, 'lambda': j, 'bias2': bias2, 'variance': variance, 'rmse_test': rmse_test, 'rmse_train': rmse_train, 'weight' : model.coef_}, name = 'sth')\n",
    "        report = report.append(new_row, ignore_index=True)"
   ]
  },
  {
   "cell_type": "code",
   "execution_count": 39,
   "metadata": {},
   "outputs": [
    {
     "data": {
      "text/html": [
       "<div>\n",
       "<style scoped>\n",
       "    .dataframe tbody tr th:only-of-type {\n",
       "        vertical-align: middle;\n",
       "    }\n",
       "\n",
       "    .dataframe tbody tr th {\n",
       "        vertical-align: top;\n",
       "    }\n",
       "\n",
       "    .dataframe thead th {\n",
       "        text-align: right;\n",
       "    }\n",
       "</style>\n",
       "<table border=\"1\" class=\"dataframe\">\n",
       "  <thead>\n",
       "    <tr style=\"text-align: right;\">\n",
       "      <th></th>\n",
       "      <th>lambda</th>\n",
       "      <th>bias2</th>\n",
       "      <th>variance</th>\n",
       "      <th>rmse_test</th>\n",
       "      <th>rmse_train</th>\n",
       "    </tr>\n",
       "  </thead>\n",
       "  <tbody>\n",
       "    <tr>\n",
       "      <th>0</th>\n",
       "      <td>1.000000e-08</td>\n",
       "      <td>197.894117</td>\n",
       "      <td>372.096850</td>\n",
       "      <td>13.643305</td>\n",
       "      <td>11.222796</td>\n",
       "    </tr>\n",
       "    <tr>\n",
       "      <th>1</th>\n",
       "      <td>1.000000e-07</td>\n",
       "      <td>182.288926</td>\n",
       "      <td>240.270109</td>\n",
       "      <td>13.141397</td>\n",
       "      <td>11.266364</td>\n",
       "    </tr>\n",
       "    <tr>\n",
       "      <th>2</th>\n",
       "      <td>1.000000e-06</td>\n",
       "      <td>172.384882</td>\n",
       "      <td>211.192698</td>\n",
       "      <td>12.688967</td>\n",
       "      <td>11.319193</td>\n",
       "    </tr>\n",
       "    <tr>\n",
       "      <th>3</th>\n",
       "      <td>1.000000e-05</td>\n",
       "      <td>160.277571</td>\n",
       "      <td>79.576125</td>\n",
       "      <td>12.401964</td>\n",
       "      <td>11.378545</td>\n",
       "    </tr>\n",
       "    <tr>\n",
       "      <th>4</th>\n",
       "      <td>1.000000e-04</td>\n",
       "      <td>151.327667</td>\n",
       "      <td>43.050261</td>\n",
       "      <td>12.074367</td>\n",
       "      <td>11.443018</td>\n",
       "    </tr>\n",
       "    <tr>\n",
       "      <th>5</th>\n",
       "      <td>1.000000e-03</td>\n",
       "      <td>146.056724</td>\n",
       "      <td>16.936070</td>\n",
       "      <td>11.821069</td>\n",
       "      <td>11.518323</td>\n",
       "    </tr>\n",
       "    <tr>\n",
       "      <th>6</th>\n",
       "      <td>1.000000e-02</td>\n",
       "      <td>143.708983</td>\n",
       "      <td>11.856162</td>\n",
       "      <td>11.715323</td>\n",
       "      <td>11.592657</td>\n",
       "    </tr>\n",
       "    <tr>\n",
       "      <th>7</th>\n",
       "      <td>1.000000e-01</td>\n",
       "      <td>140.990633</td>\n",
       "      <td>7.612648</td>\n",
       "      <td>11.602111</td>\n",
       "      <td>11.664742</td>\n",
       "    </tr>\n",
       "    <tr>\n",
       "      <th>8</th>\n",
       "      <td>1.000000e+00</td>\n",
       "      <td>137.176967</td>\n",
       "      <td>4.695926</td>\n",
       "      <td>11.440244</td>\n",
       "      <td>11.753282</td>\n",
       "    </tr>\n",
       "    <tr>\n",
       "      <th>9</th>\n",
       "      <td>1.000000e+01</td>\n",
       "      <td>134.735205</td>\n",
       "      <td>2.590066</td>\n",
       "      <td>11.336513</td>\n",
       "      <td>11.853299</td>\n",
       "    </tr>\n",
       "    <tr>\n",
       "      <th>10</th>\n",
       "      <td>1.000000e+02</td>\n",
       "      <td>133.964074</td>\n",
       "      <td>2.131719</td>\n",
       "      <td>11.309010</td>\n",
       "      <td>11.909538</td>\n",
       "    </tr>\n",
       "    <tr>\n",
       "      <th>11</th>\n",
       "      <td>1.000000e+03</td>\n",
       "      <td>134.110293</td>\n",
       "      <td>2.056698</td>\n",
       "      <td>11.306918</td>\n",
       "      <td>11.921153</td>\n",
       "    </tr>\n",
       "    <tr>\n",
       "      <th>12</th>\n",
       "      <td>1.000000e+04</td>\n",
       "      <td>134.094168</td>\n",
       "      <td>2.050207</td>\n",
       "      <td>11.306747</td>\n",
       "      <td>11.922448</td>\n",
       "    </tr>\n",
       "  </tbody>\n",
       "</table>\n",
       "</div>"
      ],
      "text/plain": [
       "          lambda       bias2    variance  rmse_test  rmse_train\n",
       "0   1.000000e-08  197.894117  372.096850  13.643305   11.222796\n",
       "1   1.000000e-07  182.288926  240.270109  13.141397   11.266364\n",
       "2   1.000000e-06  172.384882  211.192698  12.688967   11.319193\n",
       "3   1.000000e-05  160.277571   79.576125  12.401964   11.378545\n",
       "4   1.000000e-04  151.327667   43.050261  12.074367   11.443018\n",
       "5   1.000000e-03  146.056724   16.936070  11.821069   11.518323\n",
       "6   1.000000e-02  143.708983   11.856162  11.715323   11.592657\n",
       "7   1.000000e-01  140.990633    7.612648  11.602111   11.664742\n",
       "8   1.000000e+00  137.176967    4.695926  11.440244   11.753282\n",
       "9   1.000000e+01  134.735205    2.590066  11.336513   11.853299\n",
       "10  1.000000e+02  133.964074    2.131719  11.309010   11.909538\n",
       "11  1.000000e+03  134.110293    2.056698  11.306918   11.921153\n",
       "12  1.000000e+04  134.094168    2.050207  11.306747   11.922448"
      ]
     },
     "execution_count": 39,
     "metadata": {},
     "output_type": "execute_result"
    }
   ],
   "source": [
    "summary = report.groupby(['lambda'], as_index=False)['bias2', 'variance', 'rmse_test', 'rmse_train'].mean()\n",
    "summary"
   ]
  },
  {
   "cell_type": "code",
   "execution_count": 40,
   "metadata": {},
   "outputs": [
    {
     "name": "stdout",
     "output_type": "stream",
     "text": [
      "Alpha:  1e-08 \n",
      "RMSE_test:  7.36931617851118 \n",
      "W=  [     0.             60.47343887    513.19614877  -2073.34064367\n",
      "  -3441.23465511  14937.59396313  -2889.32584687 -17712.87841976\n",
      "   -954.33544863  22436.92745    -10863.87878502]\n",
      "-----------------------------------------------------------------------------\n",
      "Alpha:  1e-07 \n",
      "RMSE_test:  7.254944743905298 \n",
      "W=  [    0.           193.78252848  -564.06214644  -197.8358346\n",
      "   607.66326761  2516.43374249 -1646.45432202 -3846.78729573\n",
      "   426.75595552  5275.35360986 -2748.41364454]\n",
      "-----------------------------------------------------------------------------\n",
      "Alpha:  1e-06 \n",
      "RMSE_test:  7.247152561561843 \n",
      "W=  [    0.            24.63039892   357.12122778 -1198.73545733\n",
      "    37.75256507  1619.18447037   998.14214131  -891.59135217\n",
      " -1934.78604796  -934.2700605   1936.02314251]\n",
      "-----------------------------------------------------------------------------\n",
      "Alpha:  1e-05 \n",
      "RMSE_test:  7.246819349478749 \n",
      "W=  [   0.          135.94366195 -359.92822849   54.22757272  265.21852045\n",
      "  314.07918524   51.63675307 -328.51790775 -497.91723207 -217.51542567\n",
      "  599.15496592]\n",
      "-----------------------------------------------------------------------------\n",
      "Alpha:  0.0001 \n",
      "RMSE_test:  7.03616024371895 \n",
      "W=  [   0.          -27.65654661  -44.147835     25.97036247  142.76032834\n",
      "  132.85572072  -26.75952482 -216.54055968 -281.87759913 -102.13839444\n",
      "  389.55207978]\n",
      "-----------------------------------------------------------------------------\n",
      "Alpha:  0.001 \n",
      "RMSE_test:  6.926287157609397 \n",
      "W=  [  0.          -4.40957928 -46.56901423   7.44717797  47.25709224\n",
      "  47.84485545  23.71551406  -4.9732327  -24.60226825 -29.01327122\n",
      " -17.1305947 ]\n",
      "-----------------------------------------------------------------------------\n",
      "Alpha:  0.01 \n",
      "RMSE_test:  7.032557258256406 \n",
      "W=  [  0.         -24.40053792 -16.03337271  11.73035364  31.39095666\n",
      "  36.61413197  28.78343018  12.17950484  -8.68136098 -30.29217938\n",
      " -50.42469603]\n",
      "-----------------------------------------------------------------------------\n",
      "Alpha:  0.1 \n",
      "RMSE_test:  7.287735871975136 \n",
      "W=  [ 0.         -3.18995006  3.56095261  6.11948063  6.21689569  4.67300334\n",
      "  2.23809539 -0.46783397 -3.02551891 -5.20168308 -6.89645477]\n",
      "-----------------------------------------------------------------------------\n",
      "Alpha:  1.0 \n",
      "RMSE_test:  7.429382909787019 \n",
      "W=  [ 0.         -1.40521932 -1.60756136 -1.24592588 -0.58161492  0.16911355\n",
      "  0.88275535  1.50346085  2.01447165  2.41817462  2.72470601]\n",
      "-----------------------------------------------------------------------------\n",
      "Alpha:  10.0 \n",
      "RMSE_test:  7.385945244943839 \n",
      "W=  [ 0.         -0.60748693 -0.57008197 -0.5022625  -0.38523745 -0.24053965\n",
      " -0.09157403  0.04590454  0.16443017  0.26229031  0.34083706]\n",
      "-----------------------------------------------------------------------------\n",
      "Alpha:  100.0 \n",
      "RMSE_test:  7.40421292527652 \n",
      "W=  [ 0.         -0.04072532 -0.03592977 -0.03102082 -0.02289226 -0.01195495\n",
      "  0.00070469  0.0141445   0.02777578  0.04132013  0.05470608]\n",
      "-----------------------------------------------------------------------------\n",
      "Alpha:  1000.0 \n",
      "RMSE_test:  7.408511311948446 \n",
      "W=  [ 0.         -0.00014227  0.00097173  0.00167726  0.00230916  0.00288411\n",
      "  0.00338085  0.00379099  0.00411881  0.00437444  0.00456941]\n",
      "-----------------------------------------------------------------------------\n",
      "Alpha:  10000.0 \n",
      "RMSE_test:  7.4089889747678255 \n",
      "W=  [ 0.00000000e+00 -2.37912491e-04 -1.17404514e-04 -2.21988013e-05\n",
      "  8.24701404e-05  1.94578965e-04  3.07479784e-04  4.16904970e-04\n",
      "  5.21313410e-04  6.20876213e-04  7.16587933e-04]\n",
      "-----------------------------------------------------------------------------\n"
     ]
    }
   ],
   "source": [
    "minErr = report.loc[report.groupby('lambda')['rmse_test'].idxmin()]\n",
    "for i, item in minErr.iterrows():\n",
    "    print(\"Alpha: \", item['lambda'], \"\\nRMSE_test: \", item['rmse_test'], \"\\nW= \", item['weight'])\n",
    "    print('-----------------------------------------------------------------------------')"
   ]
  },
  {
   "cell_type": "code",
   "execution_count": 41,
   "metadata": {},
   "outputs": [
    {
     "data": {
      "text/plain": [
       "[Text(0.5, 1.0, 'Bias2 and Variance for different lambda values')]"
      ]
     },
     "execution_count": 41,
     "metadata": {},
     "output_type": "execute_result"
    },
    {
     "data": {
      "image/png": "[encoded data removed]",
      "text/plain": [
       "<Figure size 432x288 with 1 Axes>"
      ]
     },
     "metadata": {
      "needs_background": "light"
     },
     "output_type": "display_data"
    }
   ],
   "source": [
    "# plot bias2 and variance\n",
    "ax = sns.lineplot(data=summary, x=np.log10(alphas), y='rmse_test',  color='red',  label= 'test error')\n",
    "ax = sns.lineplot(data=summary, x=np.log10(alphas), y = 'rmse_train', color='blue', label= 'train error')\n",
    "ax = sns.lineplot(data=summary, x=np.log10(alphas), y='bias2',  color='orange',  label= 'bias2')\n",
    "ax = sns.lineplot(data=summary, x=np.log10(alphas), y = 'variance', color='green', label= 'variance')\n",
    "ax.set(xlabel='ln lambda', ylabel='bias and variance')\n",
    "ax.set(title='Bias2 and Variance for different lambda values')"
   ]
  },
  {
   "cell_type": "code",
   "execution_count": null,
   "metadata": {},
   "outputs": [],
   "source": []
  },
  {
   "cell_type": "code",
   "execution_count": null,
   "metadata": {},
   "outputs": [],
   "source": []
  },
  {
   "cell_type": "code",
   "execution_count": null,
   "metadata": {},
   "outputs": [],
   "source": []
  },
  {
   "cell_type": "code",
   "execution_count": null,
   "metadata": {},
   "outputs": [],
   "source": []
  }
 ],
 "metadata": {
  "kernelspec": {
   "display_name": "Python 3",
   "language": "python",
   "name": "python3"
  },
  "language_info": {
   "codemirror_mode": {
    "name": "ipython",
    "version": 3
   },
   "file_extension": ".py",
   "mimetype": "text/x-python",
   "name": "python",
   "nbconvert_exporter": "python",
   "pygments_lexer": "ipython3",
   "version": "3.8.5"
  }
 },
 "nbformat": 4,
 "nbformat_minor": 4
}
